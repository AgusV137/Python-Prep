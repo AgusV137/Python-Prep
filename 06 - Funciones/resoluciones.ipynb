{
 "cells": [
  {
   "attachments": {},
   "cell_type": "markdown",
   "metadata": {},
   "source": [
    "1) Crear una función que reciba un número como parámetro y devuelva si True si es primo y False si no lo es\n"
   ]
  },
  {
   "cell_type": "code",
   "execution_count": 5,
   "metadata": {},
   "outputs": [
    {
     "data": {
      "text/plain": [
       "True"
      ]
     },
     "execution_count": 5,
     "metadata": {},
     "output_type": "execute_result"
    }
   ],
   "source": [
    "def esPrimo(a):\n",
    "    if (type(a) == (int or float)):\n",
    "        if a % 2 == 0 and a != 2:\n",
    "            return False\n",
    "        elif a % 3 == 0 and a != 3:\n",
    "            return False\n",
    "        else:\n",
    "            return True\n",
    "\n",
    "\n",
    "\n",
    "esPrimo(1)"
   ]
  },
  {
   "attachments": {},
   "cell_type": "markdown",
   "metadata": {},
   "source": [
    "2) Utilizando la función del punto 1, realizar otra función que reciba de parámetro una lista de números y devuelva sólo aquellos que son primos en otra lista\n"
   ]
  },
  {
   "cell_type": "code",
   "execution_count": 11,
   "metadata": {},
   "outputs": [
    {
     "data": {
      "text/plain": [
       "[1, 2, 3, 5, 7]"
      ]
     },
     "execution_count": 11,
     "metadata": {},
     "output_type": "execute_result"
    }
   ],
   "source": [
    "\n",
    "lista1 = [1,2,3,4,5,6,7,8,9,10]\n",
    "\n",
    "def listPrimo(a):\n",
    "    primos = []\n",
    "    for elemento in a:\n",
    "        if esPrimo(elemento):\n",
    "            primos.append(elemento)\n",
    "    return primos \n",
    "\n",
    "lista_Primos = listPrimo(lista1)\n",
    "lista_Primos"
   ]
  },
  {
   "attachments": {},
   "cell_type": "markdown",
   "metadata": {},
   "source": [
    "3) Crear una función que al recibir una lista de números, devuelva el que más se repite y cuántas veces lo hace. Si hay más de un \"más repetido\", que devuelva cualquiera\n"
   ]
  },
  {
   "cell_type": "code",
   "execution_count": null,
   "metadata": {},
   "outputs": [],
   "source": []
  },
  {
   "cell_type": "code",
   "execution_count": 15,
   "metadata": {},
   "outputs": [
    {
     "name": "stdout",
     "output_type": "stream",
     "text": [
      "Números pares en lista_no_lista:\n",
      "-14\n",
      "-12\n",
      "-10\n",
      "-8\n",
      "-6\n",
      "-4\n",
      "-2\n"
     ]
    }
   ],
   "source": [
    "print(\"Números pares en lista_no_lista:\")\n",
    "for elemento in lista_no_lista:\n",
    "    if (elemento % 2 == 0):\n",
    "        print(elemento)\n"
   ]
  },
  {
   "attachments": {},
   "cell_type": "markdown",
   "metadata": {},
   "source": [
    "4) Utilizar el iterable para recorrer sólo los primeros 3 elementos\n"
   ]
  },
  {
   "cell_type": "code",
   "execution_count": 16,
   "metadata": {},
   "outputs": [
    {
     "name": "stdout",
     "output_type": "stream",
     "text": [
      "-15\n",
      "-14\n",
      "-13\n"
     ]
    }
   ],
   "source": [
    "for elemento in lista_no_lista[:3]:\n",
    "    print(elemento)\n"
   ]
  },
  {
   "attachments": {},
   "cell_type": "markdown",
   "metadata": {},
   "source": [
    "5) Utilizar la función **enumerate** para obtener dentro del iterable, tambien el índice al que corresponde el elemento\n"
   ]
  },
  {
   "cell_type": "code",
   "execution_count": 5,
   "metadata": {},
   "outputs": [
    {
     "name": "stdout",
     "output_type": "stream",
     "text": [
      "0 -15\n",
      "1 -14\n",
      "2 -13\n",
      "3 -12\n",
      "4 -11\n",
      "5 -10\n",
      "6 -9\n",
      "7 -8\n",
      "8 -7\n",
      "9 -6\n",
      "10 -5\n",
      "11 -4\n",
      "12 -3\n",
      "13 -2\n",
      "14 -1\n"
     ]
    }
   ],
   "source": [
    "for i, c in enumerate(lista_no_lista):\n",
    "    print(i, c)"
   ]
  },
  {
   "attachments": {},
   "cell_type": "markdown",
   "metadata": {},
   "source": [
    "6) Dada la siguiente lista de números enteros entre 1 y 20, crear un ciclo donde se completen los valores faltantes: lista = [1,2,5,7,8,10,13,14,15,17,20]\n"
   ]
  },
  {
   "cell_type": "code",
   "execution_count": 19,
   "metadata": {},
   "outputs": [
    {
     "data": {
      "text/plain": [
       "[1, 2, 3, 4, 5, 6, 7, 8, 9, 10, 11, 12, 13, 14, 15, 16, 17, 18, 19, 20]"
      ]
     },
     "execution_count": 19,
     "metadata": {},
     "output_type": "execute_result"
    }
   ],
   "source": [
    "lista_hw = [1,2,5,7,8,10,13,14,15,17,20]\n",
    "i = 1   \n",
    "while (i <= 20):\n",
    "    if (not(i in lista_hw)):\n",
    "        lista_hw.insert(i-1,i)\n",
    "    i += 1\n",
    "lista_hw\n",
    "    "
   ]
  },
  {
   "cell_type": "code",
   "execution_count": 14,
   "metadata": {},
   "outputs": [
    {
     "name": "stdout",
     "output_type": "stream",
     "text": [
      "El elemento  3 faltaba en la lista y fue agregado.\n",
      "El elemento  4 faltaba en la lista y fue agregado.\n",
      "El elemento  6 faltaba en la lista y fue agregado.\n",
      "El elemento  9 faltaba en la lista y fue agregado.\n",
      "El elemento  11 faltaba en la lista y fue agregado.\n",
      "El elemento  12 faltaba en la lista y fue agregado.\n",
      "El elemento  16 faltaba en la lista y fue agregado.\n",
      "El elemento  18 faltaba en la lista y fue agregado.\n",
      "El elemento  19 faltaba en la lista y fue agregado.\n"
     ]
    },
    {
     "data": {
      "text/plain": [
       "[1, 2, 3, 4, 5, 6, 7, 8, 9, 10, 11, 12, 13, 14, 15, 16, 17, 18, 19, 20]"
      ]
     },
     "execution_count": 14,
     "metadata": {},
     "output_type": "execute_result"
    }
   ],
   "source": [
    "lista_hw = [1,2,5,7,8,10,13,14,15,17,20]\n",
    "i = 0\n",
    "for elemento in lista_hw:\n",
    "    if (lista_hw[i]) != (i+1):\n",
    "        lista_hw.insert(i,i+1)\n",
    "        print(\"El elemento \", i+1, \"faltaba en la lista y fue agregado.\")\n",
    "    i += 1\n",
    "lista_hw"
   ]
  },
  {
   "attachments": {},
   "cell_type": "markdown",
   "metadata": {},
   "source": [
    "7) La sucesión de Fibonacci es un listado de números que sigue la fórmula: <br>\n",
    "n + 0 = 0\n",
    "n + 1 = 1\n",
    "n + i = n + i-1 + n<sub>i-2</sub><br>"
   ]
  },
  {
   "cell_type": "code",
   "execution_count": 32,
   "metadata": {},
   "outputs": [
    {
     "name": "stdout",
     "output_type": "stream",
     "text": [
      "Sucesión de Fibonacci: [0, 1, 1, 2, 3, 5, 8, 13, 21, 34, 55, 89, 144, 233, 377, 610, 987, 1597, 2584, 4181, 6765, 10946, 17711, 28657, 46368, 75025, 121393, 196418, 317811, 514229, 832040, 1346269, 2178309, 3524578, 5702887, 9227465, 14930352, 24157817, 39088169, 63245986, 102334155, 165580141, 267914296, 433494437, 701408733, 1134903170, 1836311903, 2971215073, 4807526976, 7778742049]\n"
     ]
    }
   ],
   "source": [
    "listaFb =[0, 1]\n",
    "n = 2\n",
    "while (n < 50):\n",
    "    listaFb.append(listaFb[n-1] + listaFb[n-2])\n",
    "    n += 1\n",
    "print(\"Sucesión de Fibonacci:\", listaFb)"
   ]
  },
  {
   "attachments": {},
   "cell_type": "markdown",
   "metadata": {},
   "source": [
    "8) Realizar la suma de todos elementos de la lista del punto anterior\n"
   ]
  },
  {
   "cell_type": "code",
   "execution_count": 26,
   "metadata": {},
   "outputs": [
    {
     "name": "stdout",
     "output_type": "stream",
     "text": [
      "1346268\n"
     ]
    }
   ],
   "source": [
    "sumaFB = sum(listaFb)\n",
    "print(sumaFB)"
   ]
  },
  {
   "attachments": {},
   "cell_type": "markdown",
   "metadata": {},
   "source": [
    "9) La proporción aurea se expresa con una proporción matemática que nace el número irracional Phi= 1,618… que los griegos llamaron número áureo. El cuál se puede aproximar con la sucesión de Fibonacci. Con la lista del ejercicio anterior, imprimir el cociente de los últimos 5 pares de dos números contiguos:<br>\n"
   ]
  },
  {
   "cell_type": "code",
   "execution_count": 33,
   "metadata": {},
   "outputs": [
    {
     "name": "stdout",
     "output_type": "stream",
     "text": [
      "1.0\n",
      "2.0\n",
      "1.5\n",
      "1.6666666666666667\n",
      "1.6\n",
      "1.625\n",
      "1.6153846153846154\n",
      "1.619047619047619\n",
      "1.6176470588235294\n",
      "1.6181818181818182\n",
      "1.6179775280898876\n",
      "1.6180555555555556\n",
      "1.6180257510729614\n",
      "1.6180371352785146\n",
      "1.618032786885246\n",
      "1.618034447821682\n",
      "1.6180338134001253\n",
      "1.618034055727554\n",
      "1.6180339631667064\n",
      "1.6180339985218033\n",
      "1.618033985017358\n",
      "1.6180339901755971\n",
      "1.618033988205325\n",
      "1.618033988957902\n",
      "1.6180339886704431\n",
      "1.6180339887802426\n",
      "1.618033988738303\n",
      "1.6180339887543225\n",
      "1.6180339887482036\n",
      "1.6180339887505408\n",
      "1.6180339887496482\n",
      "1.618033988749989\n",
      "1.618033988749859\n",
      "1.6180339887499087\n",
      "1.6180339887498896\n",
      "1.618033988749897\n",
      "1.618033988749894\n",
      "1.6180339887498951\n",
      "1.6180339887498947\n",
      "1.618033988749895\n",
      "1.618033988749895\n",
      "1.618033988749895\n",
      "1.618033988749895\n",
      "1.618033988749895\n",
      "1.618033988749895\n",
      "1.618033988749895\n",
      "1.618033988749895\n",
      "1.618033988749895\n"
     ]
    }
   ],
   "source": [
    "Phi = 1.618033988749895\n",
    "n = 2\n",
    "while(n < len(listaFb)):\n",
    "    print(listaFb[n]/listaFb[n-1])\n",
    "    n += 1"
   ]
  },
  {
   "attachments": {},
   "cell_type": "markdown",
   "metadata": {},
   "source": [
    "10) A partir de la variable cadena ya dada, mostrar en qué posiciones aparece la letra \"n\"<br>\n",
    "cadena = 'Hola Mundo. Esto es una practica del lenguaje de programación Python'\n"
   ]
  },
  {
   "cell_type": "code",
   "execution_count": 37,
   "metadata": {},
   "outputs": [
    {
     "name": "stdout",
     "output_type": "stream",
     "text": [
      "La letra n aparece en la  7 pocisión.\n",
      "La letra n aparece en la  21 pocisión.\n",
      "La letra n aparece en la  39 pocisión.\n",
      "La letra n aparece en la  60 pocisión.\n",
      "La letra n aparece en la  67 pocisión.\n",
      "Elementos de la cadena:  68\n"
     ]
    }
   ],
   "source": [
    "cadena1 = 'Hola Mundo. Esto es una practica del lenguaje de programación Python'\n",
    "i = 0\n",
    "for c in cadena1:\n",
    "    if (c == \"n\"):\n",
    "        print(\"La letra n aparece en la \", i, \"pocisión.\")\n",
    "    i += 1\n",
    "print(\"Elementos de la cadena: \", len(cadena1))"
   ]
  },
  {
   "attachments": {},
   "cell_type": "markdown",
   "metadata": {},
   "source": [
    "11) Crear un diccionario e imprimir sus claves utilizando un iterador\n"
   ]
  },
  {
   "cell_type": "code",
   "execution_count": 45,
   "metadata": {},
   "outputs": [
    {
     "name": "stdout",
     "output_type": "stream",
     "text": [
      "Notas01:\n",
      "Clave  1 : nro est\n",
      "Clave  2 : nombre est\n",
      "Clave  3 : nota final\n"
     ]
    }
   ],
   "source": [
    "notas01 = {\"nro est\": (1,2,3,4,5),\n",
    "           \"nombre est\": [\"Sol\", \"Amir\", \"Fernando\", \"Luka\", \"Alma\"],\n",
    "           \"nota final\": [10, 7, 8, 10, 9]}\n",
    "seccion = iter(notas01.keys())\n",
    "i = 0\n",
    "print(\"Notas01:\")\n",
    "while (len(notas01.keys()) > i):\n",
    "    print(\"Clave \", i+1, \":\", next(seccion))\n",
    "    i += 1\n"
   ]
  },
  {
   "attachments": {},
   "cell_type": "markdown",
   "metadata": {},
   "source": [
    "12) Convertir en una lista la variable \"cadena\" del punto 10 y luego recorrerla con un iterador \n"
   ]
  },
  {
   "cell_type": "code",
   "execution_count": 47,
   "metadata": {},
   "outputs": [
    {
     "name": "stdout",
     "output_type": "stream",
     "text": [
      "H\n",
      "o\n",
      "l\n",
      "a\n",
      " \n",
      "M\n",
      "u\n",
      "n\n",
      "d\n",
      "o\n",
      ".\n",
      " \n",
      "E\n",
      "s\n",
      "t\n",
      "o\n",
      " \n",
      "e\n",
      "s\n",
      " \n",
      "u\n",
      "n\n",
      "a\n",
      " \n",
      "p\n",
      "r\n",
      "a\n",
      "c\n",
      "t\n",
      "i\n",
      "c\n",
      "a\n",
      " \n",
      "d\n",
      "e\n",
      "l\n",
      " \n",
      "l\n",
      "e\n",
      "n\n",
      "g\n",
      "u\n",
      "a\n",
      "j\n",
      "e\n",
      " \n",
      "d\n",
      "e\n",
      " \n",
      "p\n",
      "r\n",
      "o\n",
      "g\n",
      "r\n",
      "a\n",
      "m\n",
      "a\n",
      "c\n",
      "i\n",
      "ó\n",
      "n\n",
      " \n",
      "P\n",
      "y\n",
      "t\n",
      "h\n",
      "o\n",
      "n\n"
     ]
    }
   ],
   "source": [
    "list(cadena1)\n",
    "marcador = iter(cadena1)\n",
    "i=0\n",
    "while (len(cadena1) > i):\n",
    "    print(next(marcador))\n",
    "    i += 1"
   ]
  },
  {
   "attachments": {},
   "cell_type": "markdown",
   "metadata": {},
   "source": [
    "13) Crear dos listas y unirlas en una tupla utilizando la función zip"
   ]
  },
  {
   "cell_type": "code",
   "execution_count": 56,
   "metadata": {},
   "outputs": [
    {
     "data": {
      "text/plain": [
       "(((1, 2, 3, 4, 5), ['Sol', 'Amir', 'Fernando', 'Luka', 'Alma']),)"
      ]
     },
     "execution_count": 56,
     "metadata": {},
     "output_type": "execute_result"
    }
   ],
   "source": [
    "listaa = [notas01[\"nro est\"]]\n",
    "listab = [notas01[\"nombre est\"]]\n",
    "\n",
    "\n",
    "n01 = zip(listaa, listab)\n",
    "type(n01)\n",
    "tuple(n01)\n"
   ]
  },
  {
   "attachments": {},
   "cell_type": "markdown",
   "metadata": {},
   "source": [
    "14) A partir de la siguiente lista de números, crear una nueva sólo si el número es divisible por 7\n"
   ]
  },
  {
   "cell_type": "code",
   "execution_count": 58,
   "metadata": {},
   "outputs": [
    {
     "data": {
      "text/plain": [
       "[21, 35, 42, 56, 63, 84, 91]"
      ]
     },
     "execution_count": 58,
     "metadata": {},
     "output_type": "execute_result"
    }
   ],
   "source": [
    "lis = [18,21,29,32,35,42,56,60,63,71,84,90,91,100]\n",
    "div7 = []\n",
    "for num in lis:\n",
    "    if (num % 7 == 0):\n",
    "        div7.append(num)\n",
    "    else:\n",
    "        continue\n",
    "div7        \n",
    "         \n"
   ]
  },
  {
   "attachments": {},
   "cell_type": "markdown",
   "metadata": {},
   "source": [
    "15) A partir de la lista de a continuación, contar la cantidad total de elementos que contiene, teniendo en cuenta que un elemento de la lista podría ser otra lista:<br>\n"
   ]
  },
  {
   "cell_type": "code",
   "execution_count": 63,
   "metadata": {},
   "outputs": [
    {
     "name": "stdout",
     "output_type": "stream",
     "text": [
      "La cantidad total de elementos de la lista es: 12\n"
     ]
    }
   ],
   "source": [
    "lis = [[1,2,3,4],'rojo','verde',[True,False,False],['uno','dos','tres']]\n",
    "total = 0\n",
    "for l in lis:\n",
    "    if (type(l) == list):\n",
    "        total += len(l)\n",
    "    else:\n",
    "        total += 1\n",
    "print(\"La cantidad total de elementos de la lista es:\", total)\n",
    "        \n"
   ]
  },
  {
   "attachments": {},
   "cell_type": "markdown",
   "metadata": {},
   "source": [
    "16) Tomar la lista del punto anterior y convertir cada elemento en una lista si no lo es\n"
   ]
  },
  {
   "cell_type": "code",
   "execution_count": 65,
   "metadata": {},
   "outputs": [
    {
     "data": {
      "text/plain": [
       "[[1, 2, 3, 4],\n",
       " ['rojo'],\n",
       " ['verde'],\n",
       " [True, False, False],\n",
       " ['uno', 'dos', 'tres']]"
      ]
     },
     "execution_count": 65,
     "metadata": {},
     "output_type": "execute_result"
    }
   ],
   "source": [
    "for indice, elemento in enumerate(lis):\n",
    "    if (type(elemento) != list):\n",
    "        lis[indice] = [elemento]\n",
    "lis"
   ]
  }
 ],
 "metadata": {
  "kernelspec": {
   "display_name": "Python 3",
   "language": "python",
   "name": "python3"
  },
  "language_info": {
   "codemirror_mode": {
    "name": "ipython",
    "version": 3
   },
   "file_extension": ".py",
   "mimetype": "text/x-python",
   "name": "python",
   "nbconvert_exporter": "python",
   "pygments_lexer": "ipython3",
   "version": "3.11.1"
  },
  "orig_nbformat": 4,
  "vscode": {
   "interpreter": {
    "hash": "5238573367df39f7286bb46f9ff5f08f63a01a80960060ce41e3c79b190280fa"
   }
  }
 },
 "nbformat": 4,
 "nbformat_minor": 2
}
