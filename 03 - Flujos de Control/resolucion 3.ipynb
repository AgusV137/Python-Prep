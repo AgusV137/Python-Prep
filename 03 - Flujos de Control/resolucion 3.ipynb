{
 "cells": [
  {
   "cell_type": "code",
   "execution_count": 6,
   "metadata": {},
   "outputs": [
    {
     "name": "stdout",
     "output_type": "stream",
     "text": [
      "Lista de números primos del 0 al 30:\n",
      "0\n",
      "1\n",
      "2\n",
      "3\n",
      "5\n",
      "7\n",
      "11\n",
      "13\n",
      "17\n",
      "19\n",
      "23\n",
      "29\n"
     ]
    }
   ],
   "source": [
    "print(\"Lista de números primos del 0 al 30:\")\n",
    "tope_rango = 30\n",
    "n = 0\n",
    "primo = True\n",
    "while (n < tope_rango):\n",
    "    for div in range (2, n):\n",
    "        if (n % div == 0):\n",
    "            primo = False\n",
    "            break\n",
    "    if (primo):\n",
    "        print(n)\n",
    "    else:\n",
    "        primo = True\n",
    "    n += 1\n"
   ]
  },
  {
   "cell_type": "code",
   "execution_count": 9,
   "metadata": {},
   "outputs": [
    {
     "name": "stdout",
     "output_type": "stream",
     "text": [
      "El número es 8 y el ciclo se repite por 1 vez.\n",
      "El número es 8 y el ciclo se repite por 2 vez.\n",
      "El número es 8 y el ciclo se repite por 3 vez.\n",
      "El número es 8 y el ciclo se repite por 4 vez.\n",
      "El número es 8 y el ciclo se repite por 5 vez.\n",
      "El número es 8 y el ciclo se repite por 6 vez.\n",
      "El número es 8 y el ciclo se repite por 7 vez.\n",
      "El número es 8 y el ciclo se repite por 8 vez.\n"
     ]
    }
   ],
   "source": [
    "from random import randint\n",
    "num3 = randint(4, 8)\n",
    "i = 0\n",
    "for i in range(num3):\n",
    "    i += 1\n",
    "    print(\"El número es\", str(num3), \"y el ciclo se repite por\", str(i) ,\"vez.\") "
   ]
  }
 ],
 "metadata": {
  "kernelspec": {
   "display_name": "Python 3",
   "language": "python",
   "name": "python3"
  },
  "language_info": {
   "codemirror_mode": {
    "name": "ipython",
    "version": 3
   },
   "file_extension": ".py",
   "mimetype": "text/x-python",
   "name": "python",
   "nbconvert_exporter": "python",
   "pygments_lexer": "ipython3",
   "version": "3.11.1"
  },
  "orig_nbformat": 4,
  "vscode": {
   "interpreter": {
    "hash": "5238573367df39f7286bb46f9ff5f08f63a01a80960060ce41e3c79b190280fa"
   }
  }
 },
 "nbformat": 4,
 "nbformat_minor": 2
}
